{
 "cells": [
  {
   "cell_type": "code",
   "execution_count": 22,
   "id": "8fac53c0",
   "metadata": {},
   "outputs": [],
   "source": [
    "import pandas as pd"
   ]
  },
  {
   "cell_type": "code",
   "execution_count": 23,
   "id": "2cb04f51",
   "metadata": {},
   "outputs": [],
   "source": [
    "file_path = r\"C:\\Users\\Uzma\\Downloads\\Analysing Employee’s Performance for HR Analytics\\Uncleaned_employees_final_dataset.csv\"\n",
    "df = pd.read_csv(file_path)"
   ]
  },
  {
   "cell_type": "code",
   "execution_count": 24,
   "id": "a033b025",
   "metadata": {},
   "outputs": [
    {
     "name": "stdout",
     "output_type": "stream",
     "text": [
      "   employee_id         department     region  education gender  \\\n",
      "0         8724         Technology  region_26  Bachelors      m   \n",
      "1        74430                 HR   region_4  Bachelors      f   \n",
      "2        72255  Sales & Marketing  region_13  Bachelors      m   \n",
      "3        38562        Procurement   region_2  Bachelors      f   \n",
      "4        64486            Finance  region_29  Bachelors      m   \n",
      "\n",
      "  recruitment_channel  no_of_trainings  age  previous_year_rating  \\\n",
      "0            sourcing                1   24                   NaN   \n",
      "1               other                1   31                   3.0   \n",
      "2               other                1   31                   1.0   \n",
      "3               other                3   31                   2.0   \n",
      "4            sourcing                1   30                   4.0   \n",
      "\n",
      "   length_of_service  KPIs_met_more_than_80  awards_won  avg_training_score  \n",
      "0                  1                      1           0                  77  \n",
      "1                  5                      0           0                  51  \n",
      "2                  4                      0           0                  47  \n",
      "3                  9                      0           0                  65  \n",
      "4                  7                      0           0                  61  \n"
     ]
    }
   ],
   "source": [
    "print(df.head())"
   ]
  },
  {
   "cell_type": "code",
   "execution_count": 25,
   "id": "86a43b3f",
   "metadata": {},
   "outputs": [],
   "source": [
    "num_rows=len(df)"
   ]
  },
  {
   "cell_type": "code",
   "execution_count": 26,
   "id": "b7e3ffc1",
   "metadata": {},
   "outputs": [
    {
     "name": "stdout",
     "output_type": "stream",
     "text": [
      "The dataset has 17417 rows.\n"
     ]
    }
   ],
   "source": [
    "print(f\"The dataset has {num_rows} rows.\")"
   ]
  },
  {
   "cell_type": "code",
   "execution_count": 27,
   "id": "b7a9b282",
   "metadata": {},
   "outputs": [],
   "source": [
    "df=df.drop_duplicates()"
   ]
  },
  {
   "cell_type": "code",
   "execution_count": 28,
   "id": "697d07f0",
   "metadata": {},
   "outputs": [],
   "source": [
    "num_rows=len(df)"
   ]
  },
  {
   "cell_type": "code",
   "execution_count": 29,
   "id": "28978e29",
   "metadata": {},
   "outputs": [
    {
     "name": "stdout",
     "output_type": "stream",
     "text": [
      "The dataset has 17415 rows.\n"
     ]
    }
   ],
   "source": [
    "print(f\"The dataset has {num_rows} rows.\")"
   ]
  },
  {
   "cell_type": "code",
   "execution_count": 31,
   "id": "76e30053",
   "metadata": {},
   "outputs": [
    {
     "name": "stdout",
     "output_type": "stream",
     "text": [
      "employee_id                int64\n",
      "department                object\n",
      "region                    object\n",
      "education                 object\n",
      "gender                    object\n",
      "recruitment_channel       object\n",
      "no_of_trainings            int64\n",
      "age                        int64\n",
      "previous_year_rating     float64\n",
      "length_of_service          int64\n",
      "KPIs_met_more_than_80      int64\n",
      "awards_won                 int64\n",
      "avg_training_score         int64\n",
      "dtype: object\n"
     ]
    }
   ],
   "source": [
    "print(df.dtypes)"
   ]
  },
  {
   "cell_type": "code",
   "execution_count": 47,
   "id": "12ec9fe8",
   "metadata": {},
   "outputs": [
    {
     "name": "stdout",
     "output_type": "stream",
     "text": [
      "<class 'pandas.core.frame.DataFrame'>\n",
      "Int64Index: 17415 entries, 0 to 17416\n",
      "Data columns (total 13 columns):\n",
      " #   Column                 Non-Null Count  Dtype  \n",
      "---  ------                 --------------  -----  \n",
      " 0   employee_id            17415 non-null  int64  \n",
      " 1   department             17415 non-null  object \n",
      " 2   region                 17415 non-null  object \n",
      " 3   education              16644 non-null  object \n",
      " 4   gender                 17415 non-null  object \n",
      " 5   recruitment_channel    17415 non-null  object \n",
      " 6   no_of_trainings        17415 non-null  int64  \n",
      " 7   age                    17415 non-null  int64  \n",
      " 8   previous_year_rating   16052 non-null  float64\n",
      " 9   length_of_service      17415 non-null  int64  \n",
      " 10  KPIs_met_more_than_80  17415 non-null  int64  \n",
      " 11  awards_won             17415 non-null  int64  \n",
      " 12  avg_training_score     17415 non-null  int64  \n",
      "dtypes: float64(1), int64(7), object(5)\n",
      "memory usage: 1.9+ MB\n"
     ]
    }
   ],
   "source": [
    "df.info()"
   ]
  },
  {
   "cell_type": "code",
   "execution_count": 48,
   "id": "ad285c3a",
   "metadata": {},
   "outputs": [
    {
     "data": {
      "text/plain": [
       "employee_id                 0\n",
       "department                  0\n",
       "region                      0\n",
       "education                 771\n",
       "gender                      0\n",
       "recruitment_channel         0\n",
       "no_of_trainings             0\n",
       "age                         0\n",
       "previous_year_rating     1363\n",
       "length_of_service           0\n",
       "KPIs_met_more_than_80       0\n",
       "awards_won                  0\n",
       "avg_training_score          0\n",
       "dtype: int64"
      ]
     },
     "execution_count": 48,
     "metadata": {},
     "output_type": "execute_result"
    }
   ],
   "source": [
    "df.isnull().sum()"
   ]
  },
  {
   "cell_type": "code",
   "execution_count": 49,
   "id": "31f694b9",
   "metadata": {},
   "outputs": [
    {
     "data": {
      "text/plain": [
       "0    Bachelors\n",
       "Name: education, dtype: object"
      ]
     },
     "execution_count": 49,
     "metadata": {},
     "output_type": "execute_result"
    }
   ],
   "source": [
    "df['education'].mode()"
   ]
  },
  {
   "cell_type": "code",
   "execution_count": 50,
   "id": "91b42408",
   "metadata": {},
   "outputs": [],
   "source": [
    "df['education']=df['education'].fillna(\"Bachelors\")"
   ]
  },
  {
   "cell_type": "code",
   "execution_count": 51,
   "id": "a48f4069",
   "metadata": {},
   "outputs": [],
   "source": [
    "Q1=df['previous_year_rating'].quantile(.25)"
   ]
  },
  {
   "cell_type": "code",
   "execution_count": 52,
   "id": "a6cfcb1a",
   "metadata": {},
   "outputs": [],
   "source": [
    "Q3=df['previous_year_rating'].quantile(.75)"
   ]
  },
  {
   "cell_type": "code",
   "execution_count": 53,
   "id": "dc7e7df0",
   "metadata": {},
   "outputs": [],
   "source": [
    "IQR=Q3-Q1"
   ]
  },
  {
   "cell_type": "code",
   "execution_count": 54,
   "id": "201e1a23",
   "metadata": {},
   "outputs": [
    {
     "data": {
      "text/plain": [
       "1.0"
      ]
     },
     "execution_count": 54,
     "metadata": {},
     "output_type": "execute_result"
    }
   ],
   "source": [
    "IQR"
   ]
  },
  {
   "cell_type": "code",
   "execution_count": 55,
   "id": "6bd2f88c",
   "metadata": {},
   "outputs": [
    {
     "data": {
      "text/plain": [
       "count    16052.000000\n",
       "mean         3.345751\n",
       "std          1.265194\n",
       "min          1.000000\n",
       "25%          3.000000\n",
       "50%          3.000000\n",
       "75%          4.000000\n",
       "max          5.000000\n",
       "Name: previous_year_rating, dtype: float64"
      ]
     },
     "execution_count": 55,
     "metadata": {},
     "output_type": "execute_result"
    }
   ],
   "source": [
    "df['previous_year_rating'].describe()"
   ]
  },
  {
   "cell_type": "code",
   "execution_count": 60,
   "id": "d75f8318",
   "metadata": {},
   "outputs": [],
   "source": [
    "import seaborn as sns\n",
    "import matplotlib.pyplot as plt "
   ]
  },
  {
   "cell_type": "code",
   "execution_count": 61,
   "id": "e3a37f82",
   "metadata": {},
   "outputs": [
    {
     "data": {
      "image/png": "[encoded data removed]",
      "text/plain": [
       "<Figure size 640x480 with 1 Axes>"
      ]
     },
     "metadata": {},
     "output_type": "display_data"
    }
   ],
   "source": [
    "sns.boxplot(df['previous_year_rating'])\n",
    "plt.show()"
   ]
  },
  {
   "cell_type": "code",
   "execution_count": 63,
   "id": "68fafa8f",
   "metadata": {},
   "outputs": [
    {
     "data": {
      "text/plain": [
       "False    17415\n",
       "Name: previous_year_rating, dtype: int64"
      ]
     },
     "execution_count": 63,
     "metadata": {},
     "output_type": "execute_result"
    }
   ],
   "source": [
    "df1=df['previous_year_rating']>5\n",
    "df1.value_counts()"
   ]
  },
  {
   "cell_type": "code",
   "execution_count": 66,
   "id": "f4f42346",
   "metadata": {},
   "outputs": [],
   "source": [
    "df['previous_year_rating']=df['previous_year_rating'].fillna(3)"
   ]
  },
  {
   "cell_type": "code",
   "execution_count": 67,
   "id": "f355e826",
   "metadata": {},
   "outputs": [
    {
     "data": {
      "text/plain": [
       "employee_id              0\n",
       "department               0\n",
       "region                   0\n",
       "education                0\n",
       "gender                   0\n",
       "recruitment_channel      0\n",
       "no_of_trainings          0\n",
       "age                      0\n",
       "previous_year_rating     0\n",
       "length_of_service        0\n",
       "KPIs_met_more_than_80    0\n",
       "awards_won               0\n",
       "avg_training_score       0\n",
       "dtype: int64"
      ]
     },
     "execution_count": 67,
     "metadata": {},
     "output_type": "execute_result"
    }
   ],
   "source": [
    "df.isnull().sum()"
   ]
  },
  {
   "cell_type": "code",
   "execution_count": 68,
   "id": "83762ad4",
   "metadata": {},
   "outputs": [
    {
     "name": "stdout",
     "output_type": "stream",
     "text": [
      "<class 'pandas.core.frame.DataFrame'>\n",
      "Int64Index: 17415 entries, 0 to 17416\n",
      "Data columns (total 13 columns):\n",
      " #   Column                 Non-Null Count  Dtype  \n",
      "---  ------                 --------------  -----  \n",
      " 0   employee_id            17415 non-null  int64  \n",
      " 1   department             17415 non-null  object \n",
      " 2   region                 17415 non-null  object \n",
      " 3   education              17415 non-null  object \n",
      " 4   gender                 17415 non-null  object \n",
      " 5   recruitment_channel    17415 non-null  object \n",
      " 6   no_of_trainings        17415 non-null  int64  \n",
      " 7   age                    17415 non-null  int64  \n",
      " 8   previous_year_rating   17415 non-null  float64\n",
      " 9   length_of_service      17415 non-null  int64  \n",
      " 10  KPIs_met_more_than_80  17415 non-null  int64  \n",
      " 11  awards_won             17415 non-null  int64  \n",
      " 12  avg_training_score     17415 non-null  int64  \n",
      "dtypes: float64(1), int64(7), object(5)\n",
      "memory usage: 2.4+ MB\n"
     ]
    }
   ],
   "source": [
    "df.info()"
   ]
  },
  {
   "cell_type": "code",
   "execution_count": 73,
   "id": "a3fdf8c3",
   "metadata": {},
   "outputs": [],
   "source": [
    "df.to_csv(r'C:\\Users\\Uzma\\Downloads\\Analysing Employee’s Performance for HR Analytics\\employee.csv', index=False)"
   ]
  },
  {
   "cell_type": "code",
   "execution_count": null,
   "id": "d75114b3",
   "metadata": {},
   "outputs": [],
   "source": []
  },
  {
   "cell_type": "code",
   "execution_count": null,
   "id": "c64f8ba6",
   "metadata": {},
   "outputs": [],
   "source": []
  },
  {
   "cell_type": "code",
   "execution_count": null,
   "id": "bf4c7238",
   "metadata": {},
   "outputs": [],
   "source": []
  },
  {
   "cell_type": "code",
   "execution_count": null,
   "id": "5f9fc75e",
   "metadata": {},
   "outputs": [],
   "source": []
  },
  {
   "cell_type": "code",
   "execution_count": null,
   "id": "8679802b",
   "metadata": {},
   "outputs": [],
   "source": []
  },
  {
   "cell_type": "code",
   "execution_count": null,
   "id": "8ac2429d",
   "metadata": {},
   "outputs": [],
   "source": []
  },
  {
   "cell_type": "code",
   "execution_count": null,
   "id": "34df9bfb",
   "metadata": {},
   "outputs": [],
   "source": []
  },
  {
   "cell_type": "code",
   "execution_count": null,
   "id": "5cf206dd",
   "metadata": {},
   "outputs": [],
   "source": []
  },
  {
   "cell_type": "code",
   "execution_count": null,
   "id": "36721dcf",
   "metadata": {},
   "outputs": [],
   "source": []
  },
  {
   "cell_type": "code",
   "execution_count": null,
   "id": "843b4dac",
   "metadata": {},
   "outputs": [],
   "source": []
  },
  {
   "cell_type": "code",
   "execution_count": null,
   "id": "0516ce55",
   "metadata": {},
   "outputs": [],
   "source": []
  },
  {
   "cell_type": "code",
   "execution_count": null,
   "id": "1359893c",
   "metadata": {},
   "outputs": [],
   "source": []
  },
  {
   "cell_type": "code",
   "execution_count": null,
   "id": "cc13e0f4",
   "metadata": {},
   "outputs": [],
   "source": []
  },
  {
   "cell_type": "code",
   "execution_count": null,
   "id": "91290be1",
   "metadata": {},
   "outputs": [],
   "source": []
  },
  {
   "cell_type": "code",
   "execution_count": null,
   "id": "26d2d550",
   "metadata": {},
   "outputs": [],
   "source": []
  },
  {
   "cell_type": "code",
   "execution_count": null,
   "id": "a7b4013d",
   "metadata": {},
   "outputs": [],
   "source": []
  },
  {
   "cell_type": "code",
   "execution_count": null,
   "id": "66965ed9",
   "metadata": {},
   "outputs": [],
   "source": []
  },
  {
   "cell_type": "code",
   "execution_count": null,
   "id": "a0bd0b7f",
   "metadata": {},
   "outputs": [],
   "source": []
  },
  {
   "cell_type": "code",
   "execution_count": null,
   "id": "3807d613",
   "metadata": {},
   "outputs": [],
   "source": []
  },
  {
   "cell_type": "code",
   "execution_count": null,
   "id": "ac07d876",
   "metadata": {},
   "outputs": [],
   "source": []
  },
  {
   "cell_type": "code",
   "execution_count": null,
   "id": "c2457e0d",
   "metadata": {},
   "outputs": [],
   "source": []
  },
  {
   "cell_type": "code",
   "execution_count": null,
   "id": "646ba6f5",
   "metadata": {},
   "outputs": [],
   "source": []
  },
  {
   "cell_type": "code",
   "execution_count": null,
   "id": "4ebb9a36",
   "metadata": {},
   "outputs": [],
   "source": []
  },
  {
   "cell_type": "code",
   "execution_count": null,
   "id": "6e8f3301",
   "metadata": {},
   "outputs": [],
   "source": []
  },
  {
   "cell_type": "code",
   "execution_count": null,
   "id": "b2fc6832",
   "metadata": {},
   "outputs": [],
   "source": []
  },
  {
   "cell_type": "code",
   "execution_count": null,
   "id": "847a5abe",
   "metadata": {},
   "outputs": [],
   "source": []
  },
  {
   "cell_type": "code",
   "execution_count": null,
   "id": "8c299a11",
   "metadata": {},
   "outputs": [],
   "source": []
  },
  {
   "cell_type": "code",
   "execution_count": null,
   "id": "56120fa0",
   "metadata": {},
   "outputs": [],
   "source": []
  }
 ],
 "metadata": {
  "kernelspec": {
   "display_name": "Python 3 (ipykernel)",
   "language": "python",
   "name": "python3"
  },
  "language_info": {
   "codemirror_mode": {
    "name": "ipython",
    "version": 3
   },
   "file_extension": ".py",
   "mimetype": "text/x-python",
   "name": "python",
   "nbconvert_exporter": "python",
   "pygments_lexer": "ipython3",
   "version": "3.10.9"
  }
 },
 "nbformat": 4,
 "nbformat_minor": 5
}
